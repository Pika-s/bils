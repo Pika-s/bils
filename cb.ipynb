{
 "cells": [
  {
   "cell_type": "code",
   "execution_count": null,
   "id": "023d7852",
   "metadata": {},
   "outputs": [],
   "source": [
    "import nltk\n",
    "from nltk.chat.util import Chat,reflections"
   ]
  },
  {
   "cell_type": "code",
   "execution_count": null,
   "id": "403e57de",
   "metadata": {},
   "outputs": [],
   "source": [
    "Pairs = [['Hi, my name is (.*)',['Hey','Hi bestiee!!']],\n",
    "         ['(.*)made you?',['I created myself']],\n",
    "         ['(.*)your name?',['Hey','Hi bestiee!!']]]"
   ]
  },
  {
   "cell_type": "code",
   "execution_count": null,
   "id": "5e2af01d",
   "metadata": {},
   "outputs": [],
   "source": [
    "chat = Chat(Pairs,reflections)"
   ]
  },
  {
   "cell_type": "code",
   "execution_count": null,
   "id": "e9c5cdf6",
   "metadata": {},
   "outputs": [],
   "source": [
    "chat.converse()"
   ]
  },
  {
   "cell_type": "code",
   "execution_count": null,
   "id": "6cc32a46",
   "metadata": {},
   "outputs": [],
   "source": []
  }
 ],
 "metadata": {
  "kernelspec": {
   "display_name": "Python 3",
   "language": "python",
   "name": "python3"
  },
  "language_info": {
   "codemirror_mode": {
    "name": "ipython",
    "version": 3
   },
   "file_extension": ".py",
   "mimetype": "text/x-python",
   "name": "python",
   "nbconvert_exporter": "python",
   "pygments_lexer": "ipython3",
   "version": "3.8.8"
  }
 },
 "nbformat": 4,
 "nbformat_minor": 5
}
