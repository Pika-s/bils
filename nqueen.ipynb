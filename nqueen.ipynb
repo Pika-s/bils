{
 "cells": [
  {
   "cell_type": "code",
   "execution_count": 1,
   "id": "da201f93",
   "metadata": {},
   "outputs": [],
   "source": [
    "N =8"
   ]
  },
  {
   "cell_type": "code",
   "execution_count": 2,
   "id": "ff1f5881",
   "metadata": {},
   "outputs": [],
   "source": [
    "def printSolution(board):\n",
    "    for i in range(N):\n",
    "        for j in range(N):\n",
    "            print(board[i][j],end=\"\")\n",
    "        print()   "
   ]
  },
  {
   "cell_type": "code",
   "execution_count": 3,
   "id": "2b28a03a",
   "metadata": {},
   "outputs": [],
   "source": [
    "def isSafe(row,col,sc,bsc,rl,scl,bscl):\n",
    "    if(rl[row] or scl[sc[row][col]] or bscl[bsc[row][col]]):\n",
    "        return False\n",
    "    return True"
   ]
  },
  {
   "cell_type": "code",
   "execution_count": 4,
   "id": "324b0128",
   "metadata": {},
   "outputs": [],
   "source": [
    "def solveNQueensUtil(board,col,sc,bsc,rl,scl,bscl):\n",
    "    if(col>=N):\n",
    "        return True\n",
    "    \n",
    "    for i in range(N):\n",
    "        if(isSafe(i,col,sc,bsc,rl,scl,bscl)):\n",
    "            board[i][col]=1\n",
    "            rl[i]=True\n",
    "            scl[sc[i][col]]=True\n",
    "            bscl[bsc[i][col]]=True\n",
    "            \n",
    "            if(solveNQueensUtil(board,col+1,sc,bsc,rl,scl,bscl)):\n",
    "                return True\n",
    "            \n",
    "            #backtracking\n",
    "            board[i][col]=0\n",
    "            rl[i]=False\n",
    "            scl[sc[i][col]]=False\n",
    "            bscl[bsc[i][col]]=False\n",
    "            \n",
    "    return False   "
   ]
  },
  {
   "cell_type": "code",
   "execution_count": 5,
   "id": "ce2b29e6",
   "metadata": {},
   "outputs": [],
   "source": [
    "def solveNQueens():\n",
    "    \n",
    "    board = [[0 for i in range(N)] for j in range(N)]\n",
    "    sc = [[0 for i in range(N)] for j in range(N)]\n",
    "    bsc = [[0 for i in range(N)] for j in range(N)]\n",
    "    \n",
    "    rl=[False]*N\n",
    "    \n",
    "    x = 2*N -1\n",
    "    scl = [False]*x\n",
    "    bscl = [False]*x\n",
    "    \n",
    "    for rr in range(N):\n",
    "        for cc in range(N):\n",
    "            sc[rr][cc]= rr+cc\n",
    "            bsc[rr][cc]=rr-cc+7\n",
    "    \n",
    "    if(solveNQueensUtil(board,0,sc,bsc,rl,scl,bscl)==False):\n",
    "        print(\"Solution nonexixtent\")\n",
    "    \n",
    "    print(\"Solution exists/n\")\n",
    "    \n",
    "    printSolution(board)\n",
    "    \n",
    "    return True             "
   ]
  },
  {
   "cell_type": "code",
   "execution_count": 6,
   "id": "412174c2",
   "metadata": {},
   "outputs": [
    {
     "name": "stdout",
     "output_type": "stream",
     "text": [
      "Solution exists/n\n",
      "10000000\n",
      "00000010\n",
      "00001000\n",
      "00000001\n",
      "01000000\n",
      "00010000\n",
      "00000100\n",
      "00100000\n"
     ]
    },
    {
     "data": {
      "text/plain": [
       "True"
      ]
     },
     "execution_count": 6,
     "metadata": {},
     "output_type": "execute_result"
    }
   ],
   "source": [
    "solveNQueens()"
   ]
  },
  {
   "cell_type": "code",
   "execution_count": null,
   "id": "479544fa",
   "metadata": {},
   "outputs": [],
   "source": []
  }
 ],
 "metadata": {
  "kernelspec": {
   "display_name": "Python 3",
   "language": "python",
   "name": "python3"
  },
  "language_info": {
   "codemirror_mode": {
    "name": "ipython",
    "version": 3
   },
   "file_extension": ".py",
   "mimetype": "text/x-python",
   "name": "python",
   "nbconvert_exporter": "python",
   "pygments_lexer": "ipython3",
   "version": "3.8.8"
  }
 },
 "nbformat": 4,
 "nbformat_minor": 5
}
